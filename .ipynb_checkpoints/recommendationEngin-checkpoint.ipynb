{
 "cells": [
  {
   "cell_type": "code",
   "execution_count": null,
   "id": "7e7d0445-3eee-479b-9a50-e40677b4d1e0",
   "metadata": {},
   "outputs": [],
   "source": [
    "import pandas as pd\n",
    "import numpy as np\n",
    "from sklearn.metrics.pairwise import cosine_similarity"
   ]
  },
  {
   "cell_type": "code",
   "execution_count": null,
   "id": "1d2cbdec-5382-4ee9-9cd7-a741003509a0",
   "metadata": {},
   "outputs": [],
   "source": [
    "# Collecte des données d'utilisateurs et de films\n",
    "ratings_data = pd.read_csv(\"ratings.csv\")\n",
    "movie_data = pd.read_csv(\"movies.csv\")"
   ]
  },
  {
   "cell_type": "code",
   "execution_count": null,
   "id": "9c875455-9a88-43f0-b296-97c15e7df176",
   "metadata": {},
   "outputs": [],
   "source": [
    "# Nettoyage et prétraitement des données\n",
    "ratings_data.dropna(inplace=True)\n",
    "movie_data.dropna(inplace=True)"
   ]
  },
  {
   "cell_type": "code",
   "execution_count": null,
   "id": "b41810e3-d88b-49d5-a49d-0c4e868996b0",
   "metadata": {},
   "outputs": [],
   "source": [
    "# Jointure des données d'utilisateurs et de films\n",
    "merged_data = pd.merge(ratings_data, movie_data, on=\"movieId\")"
   ]
  },
  {
   "cell_type": "code",
   "execution_count": null,
   "id": "834f9300-157d-4c29-8ba8-8ebb24869bd9",
   "metadata": {},
   "outputs": [],
   "source": [
    "# Pivotage des données pour créer une matrice utilisateur-film\n",
    "user_movie_matrix = merged_data.pivot_table(index=\"userId\", columns=\"title\", values=\"rating\")"
   ]
  },
  {
   "cell_type": "code",
   "execution_count": null,
   "id": "3799c594-82eb-437e-ab1a-042be537e12a",
   "metadata": {},
   "outputs": [],
   "source": [
    "# Remplacement des valeurs manquantes par 0\n",
    "user_movie_matrix.fillna(0, inplace=True)\n",
    "\n",
    "# Calcul de la similarité cosinus entre les utilisateurs\n",
    "user_similarity = cosine_similarity(user_movie_matrix)\n"
   ]
  },
  {
   "cell_type": "code",
   "execution_count": null,
   "id": "776e3382-ba82-4b18-ae9e-9e2f9fc07393",
   "metadata": {},
   "outputs": [],
   "source": [
    "# Définition de la fonction de recommandation\n",
    "def recommend_movies(user):\n",
    "    # Récupération de l'index de l'utilisateur\n",
    "    user_index = user_movie_matrix.index.get_loc(user)\n",
    "    # Calcul de la similarité cosinus entre l'utilisateur et les autres utilisateurs\n",
    "    similarities = user_similarity[user_index]\n",
    "    # Récupération des indices des utilisateurs les plus similaires\n",
    "    similar_indices = similarities.argsort()[::-1][1:]\n",
    "    # Initialisation d'un dictionnaire pour stocker les recommandations et leur score\n",
    "    recommendations = {}\n",
    "    # Pour chaque utilisateur similaire, récupération des films qu'il a notés positivement\n",
    "    for i in similar_indices:\n",
    "        rated_movies = user_movie_matrix.iloc[i].where(lambda x: x > 3).dropna()\n",
    "        # Pour chaque film noté positivement, ajout à la liste de recommandations avec le score de similarité correspondant\n",
    "        for movie, rating in rated_movies.iteritems():\n",
    "            if movie not in user_movie_matrix.iloc[user_index]:\n",
    "                if movie not in recommendations:\n",
    "                    recommendations[movie] = rating * similarities[i]\n",
    "                else:\n",
    "                    recommendations[movie] += rating * similarities[i]\n",
    "    # Tri des recommandations par score décroissant\n",
    "    sorted_recommendations = sorted(recommendations.items(), key=lambda x: x[1], reverse=True)\n",
    "    return sorted_recommendations[:10]"
   ]
  },
  {
   "cell_type": "code",
   "execution_count": null,
   "id": "54caeb54-6ac7-4a1b-a0ee-0bcae3be8be5",
   "metadata": {},
   "outputs": [
    {
     "name": "stdout",
     "output_type": "stream",
     "text": [
      "Les 10 films les plus recommandés pour l'utilisateur 2 sont :\n"
     ]
    }
   ],
   "source": [
    "user_id = 2\n",
    "recommendations = recommend_movies(user_id)\n",
    "print(\"Les 10 films les plus recommandés pour l'utilisateur {} sont :\".format(user_id))\n",
    "for i, recommendation in enumerate(recommendations):\n",
    "    print(\"{}) {} (score : {})\".format(i+1, recommendation[0], round(recommendation[1], 2)))\n"
   ]
  },
  {
   "cell_type": "code",
   "execution_count": null,
   "id": "903d98b1-01fd-4d20-b341-e35bec53fd48",
   "metadata": {},
   "outputs": [],
   "source": []
  }
 ],
 "metadata": {
  "kernelspec": {
   "display_name": "Python 3 (ipykernel)",
   "language": "python",
   "name": "python3"
  },
  "language_info": {
   "codemirror_mode": {
    "name": "ipython",
    "version": 3
   },
   "file_extension": ".py",
   "mimetype": "text/x-python",
   "name": "python",
   "nbconvert_exporter": "python",
   "pygments_lexer": "ipython3",
   "version": "3.9.7"
  },
  "vscode": {
   "interpreter": {
    "hash": "aee8b7b246df8f9039afb4144a1f6fd8d2ca17a180786b69acc140d282b71a49"
   }
  }
 },
 "nbformat": 4,
 "nbformat_minor": 5
}
